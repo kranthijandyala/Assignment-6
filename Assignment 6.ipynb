{
 "cells": [
  {
   "cell_type": "markdown",
   "id": "a8a967b0",
   "metadata": {},
   "source": [
    "# Create an assignment for File handling of JSON files in Python"
   ]
  },
  {
   "cell_type": "markdown",
   "id": "8bc7ca68",
   "metadata": {},
   "source": [
    "# 👉 1. Create a JSON file (employee.json) containing employee information of minimum 5 employees. Each employee information consists of Name, DOB, Height, City, State. Write a python program that reads this information from the JSON file and saves the information into a list of objects of Employee class. Finally print the list of the Employee objects."
   ]
  },
  {
   "cell_type": "code",
   "execution_count": 27,
   "id": "d5555cd5",
   "metadata": {},
   "outputs": [
    {
     "name": "stdout",
     "output_type": "stream",
     "text": [
      "json file generated\n"
     ]
    },
    {
     "data": {
      "text/plain": [
       "[{'employee name': 'kranthi',\n",
       "  'employee DOB': '06/02/1999',\n",
       "  'employee height': '5.9 feets',\n",
       "  'employee city': 'Hyderabad',\n",
       "  'employee state': 'Telangana'},\n",
       " {'employee name': 'Vijay',\n",
       "  'employee DOB': '10/8/1999',\n",
       "  'employee height': '5.9 feets',\n",
       "  'employee city': 'Hyderabad',\n",
       "  'employee state': 'Telangana'},\n",
       " {'employee name': 'Abidh',\n",
       "  'employee DOB': '18/8/1999',\n",
       "  'employee height': '5.9 feets',\n",
       "  'employee city': 'Hyderabad',\n",
       "  'employee state': 'Telangana'},\n",
       " {'employee name': 'Abhi',\n",
       "  'employee DOB': '01/01/1999',\n",
       "  'employee height': '5.5 feets',\n",
       "  'employee city': 'Hyderabad',\n",
       "  'employee state': 'Telangana'},\n",
       " {'employee name': 'Mukesh',\n",
       "  'employee DOB': '22/02/1999',\n",
       "  'employee height': '5.9 feets',\n",
       "  'employee city': 'Hyderabad',\n",
       "  'employee state': 'Telangana'}]"
      ]
     },
     "execution_count": 27,
     "metadata": {},
     "output_type": "execute_result"
    }
   ],
   "source": [
    "import json\n",
    "Employees_details={\"employee name\":\"kranthi\",\"employee DOB\":\"06/02/1999\",\"employee height\":\"5.9 feets\",\"employee city\":\"Hyderabad\",\"employee state\":\"Telangana\"},{\"employee name\":\"Vijay\",\"employee DOB\":\"10/8/1999\",\"employee height\":\"5.9 feets\",\"employee city\":\"Hyderabad\",\"employee state\":\"Telangana\"},{\"employee name\":\"Abidh\",\"employee DOB\":\"18/8/1999\",\"employee height\":\"5.9 feets\",\"employee city\":\"Hyderabad\",\"employee state\":\"Telangana\"},{\"employee name\":\"Abhi\",\"employee DOB\":\"01/01/1999\",\"employee height\":\"5.5 feets\",\"employee city\":\"Hyderabad\",\"employee state\":\"Telangana\"},{\"employee name\":\"Mukesh\",\"employee DOB\":\"22/02/1999\",\"employee height\":\"5.9 feets\",\"employee city\":\"Hyderabad\",\"employee state\":\"Telangana\"}\n",
    "with open(\"employee.json\",\"w\")as f:\n",
    "    json.dump(Employees_details,f,indent=5)\n",
    "    print(\"json file generated\")\n",
    "with open(\"employee.json\",\"r\")as f:\n",
    "    x=json.load(f)\n",
    "x"
   ]
  },
  {
   "cell_type": "markdown",
   "id": "8ef659f4",
   "metadata": {},
   "source": [
    "# 👉 2. Create a dictionary of any 7 Indian states and their capitals. Write this into a JSON file."
   ]
  },
  {
   "cell_type": "code",
   "execution_count": 5,
   "id": "ef8759b1",
   "metadata": {},
   "outputs": [
    {
     "name": "stdout",
     "output_type": "stream",
     "text": [
      "json file genereated\n"
     ]
    }
   ],
   "source": [
    "import json\n",
    "States_capitals={\"Telangana\":\"Hyderabad\",\"goa\":\"panaji\",\"Himachal pradesh\":\"Shimla\",\"Maharashtra\":\"Mumbai\",\"uttar pradesh\":\"Lucknow\",\"Madhya pradesh\":\"bhopal\",\"Bihar\":\"patna\"}\n",
    "with open(\"states.json\",\"w\")as f:\n",
    "    json.dump(States_capitals,f,indent=5)\n",
    "    print(\"json file genereated\")"
   ]
  },
  {
   "cell_type": "markdown",
   "id": "9cfce6db",
   "metadata": {},
   "source": [
    "# 👉 1. Create a class named ‘Dog’. It should have a constructor which accepts its name, age and coat color. You must perform the following operations:"
   ]
  },
  {
   "cell_type": "code",
   "execution_count": null,
   "id": "09423399",
   "metadata": {},
   "outputs": [],
   "source": [
    "🔴 a. It should have a function ‘description()’ which prints the name and age of the dog.\n",
    "🔴 b. It should have a function ‘get_info()’ which prints the coat color of the dog.\n",
    "🔴 c. Create child classes ‘JackRussellTerrier’ and ‘Bulldog’ which is inherited from the class ‘Dog’. It should have at least two methods of its own.\n",
    "🔴 d. Create objects and implement the above functionalities"
   ]
  },
  {
   "cell_type": "code",
   "execution_count": 26,
   "id": "e0face83",
   "metadata": {},
   "outputs": [
    {
     "name": "stdout",
     "output_type": "stream",
     "text": [
      "Full name is jeans\n",
      "Age of dog 6\n",
      "color of dog black\n",
      "energy level of dog high\n",
      "favorite activity fetch\n",
      "****************************************************************************************************\n",
      "Full name is chotu\n",
      "Age of dog 4\n",
      "color of dog white\n",
      "lazy ness of dog is high\n",
      "favorite food is chicken\n"
     ]
    }
   ],
   "source": [
    "class Dog:\n",
    "    def __init__(self,name,age,coat_color):\n",
    "        self.name=name\n",
    "        self.age=age\n",
    "        self.coat_color=coat_color\n",
    "    def description(self):\n",
    "        print(\"Full name is\",self.name)\n",
    "        print(\"Age of dog\",self.age)\n",
    "    def get_info(self):\n",
    "        print(\"color of dog\",self.coat_color)\n",
    "class jackrussellterrier(Dog):\n",
    "    def __init__(self,name,age,coat_color,energy_level,favorite_activity):\n",
    "        super().__init__(name,age,coat_color)\n",
    "        self.energy_level=energy_level\n",
    "        self.favorite_activity=favorite_activity\n",
    "    def energy(self):\n",
    "        print(\"energy level of dog\",self.energy_level)\n",
    "    def favorite(self):\n",
    "        print(\"favorite activity\",self.favorite_activity)\n",
    "\n",
    "class Bulldog(Dog):\n",
    "    def __init__(self,name,age,coat_color,lazy_level,favorite_food):\n",
    "        super().__init__(name,age,coat_color)\n",
    "        self.lazy_level=lazy_level\n",
    "        self.favorite_food=favorite_food\n",
    "    def lazy(self):\n",
    "        print(\"lazy ness of dog is\",self.lazy_level)\n",
    "    def food(self):\n",
    "        print(\"favorite food is\",self.favorite_food)\n",
    "\n",
    "A1=jackrussellterrier(\"jeans\",6,\"black\",\"high\",\"fetch\")\n",
    "A1.description()\n",
    "A1.get_info()\n",
    "A1.energy()\n",
    "A1.favorite()\n",
    "print(\"*\"*100)\n",
    "\n",
    "A2=Bulldog(\"chotu\",4,\"white\",\"high\",\"chicken\")\n",
    "A2.description()\n",
    "A2.get_info()\n",
    "A2.lazy()\n",
    "A2.food()"
   ]
  },
  {
   "cell_type": "code",
   "execution_count": null,
   "id": "0a01c412",
   "metadata": {},
   "outputs": [],
   "source": []
  },
  {
   "cell_type": "code",
   "execution_count": null,
   "id": "cf9c70a0",
   "metadata": {},
   "outputs": [],
   "source": []
  }
 ],
 "metadata": {
  "kernelspec": {
   "display_name": "Python 3 (ipykernel)",
   "language": "python",
   "name": "python3"
  },
  "language_info": {
   "codemirror_mode": {
    "name": "ipython",
    "version": 3
   },
   "file_extension": ".py",
   "mimetype": "text/x-python",
   "name": "python",
   "nbconvert_exporter": "python",
   "pygments_lexer": "ipython3",
   "version": "3.9.13"
  }
 },
 "nbformat": 4,
 "nbformat_minor": 5
}
